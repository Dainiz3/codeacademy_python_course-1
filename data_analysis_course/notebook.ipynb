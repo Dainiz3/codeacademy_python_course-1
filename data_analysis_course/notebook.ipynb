{
 "cells": [
  {
   "cell_type": "code",
   "execution_count": 1,
   "metadata": {},
   "outputs": [
    {
     "name": "stdout",
     "output_type": "stream",
     "text": [
      "Unexpected exception formatting exception. Falling back to standard exception\n"
     ]
    },
    {
     "name": "stderr",
     "output_type": "stream",
     "text": [
      "Traceback (most recent call last):\n",
      "  File \"c:\\Users\\Vytautas\\repositories\\personal\\codeacademy_python_course\\flask_course\\.venv\\lib\\site-packages\\IPython\\core\\interactiveshell.py\", line 3398, in run_code\n",
      "  File \"C:\\Users\\Vytautas\\AppData\\Local\\Temp\\ipykernel_33560\\1915490065.py\", line 1, in <cell line: 1>\n",
      "    import pandas as pd\n",
      "ModuleNotFoundError: No module named 'pandas'\n",
      "\n",
      "During handling of the above exception, another exception occurred:\n",
      "\n",
      "Traceback (most recent call last):\n",
      "  File \"c:\\Users\\Vytautas\\repositories\\personal\\codeacademy_python_course\\flask_course\\.venv\\lib\\site-packages\\pygments\\styles\\__init__.py\", line 78, in get_style_by_name\n",
      "ModuleNotFoundError: No module named 'pygments.styles.default'\n",
      "\n",
      "During handling of the above exception, another exception occurred:\n",
      "\n",
      "Traceback (most recent call last):\n",
      "  File \"c:\\Users\\Vytautas\\repositories\\personal\\codeacademy_python_course\\flask_course\\.venv\\lib\\site-packages\\IPython\\core\\interactiveshell.py\", line 1993, in showtraceback\n",
      "  File \"c:\\Users\\Vytautas\\repositories\\personal\\codeacademy_python_course\\flask_course\\.venv\\lib\\site-packages\\IPython\\core\\ultratb.py\", line 1118, in structured_traceback\n",
      "  File \"c:\\Users\\Vytautas\\repositories\\personal\\codeacademy_python_course\\flask_course\\.venv\\lib\\site-packages\\IPython\\core\\ultratb.py\", line 1012, in structured_traceback\n",
      "  File \"c:\\Users\\Vytautas\\repositories\\personal\\codeacademy_python_course\\flask_course\\.venv\\lib\\site-packages\\IPython\\core\\ultratb.py\", line 865, in structured_traceback\n",
      "  File \"c:\\Users\\Vytautas\\repositories\\personal\\codeacademy_python_course\\flask_course\\.venv\\lib\\site-packages\\IPython\\core\\ultratb.py\", line 799, in format_exception_as_a_whole\n",
      "  File \"c:\\Users\\Vytautas\\repositories\\personal\\codeacademy_python_course\\flask_course\\.venv\\lib\\site-packages\\IPython\\core\\ultratb.py\", line 844, in get_records\n",
      "  File \"c:\\Users\\Vytautas\\repositories\\personal\\codeacademy_python_course\\flask_course\\.venv\\lib\\site-packages\\pygments\\styles\\__init__.py\", line 80, in get_style_by_name\n",
      "pygments.util.ClassNotFound: Could not find style module 'default', though it should be builtin.\n"
     ]
    }
   ],
   "source": [
    "import pandas as pd\n",
    "\n"
   ]
  },
  {
   "cell_type": "code",
   "execution_count": null,
   "metadata": {},
   "outputs": [],
   "source": [
    "1"
   ]
  },
  {
   "cell_type": "code",
   "execution_count": null,
   "metadata": {},
   "outputs": [],
   "source": []
  }
 ],
 "metadata": {
  "interpreter": {
   "hash": "7d10c83c8cc49b5d2841dfe9f72be0991871031a4759813dd97b032d1cb382ad"
  },
  "kernelspec": {
   "display_name": "Python 3.9.13 ('.venv': venv)",
   "language": "python",
   "name": "python3"
  },
  "language_info": {
   "codemirror_mode": {
    "name": "ipython",
    "version": 3
   },
   "file_extension": ".py",
   "mimetype": "text/x-python",
   "name": "python",
   "nbconvert_exporter": "python",
   "pygments_lexer": "ipython3",
   "version": "3.9.13"
  },
  "orig_nbformat": 4
 },
 "nbformat": 4,
 "nbformat_minor": 2
}
